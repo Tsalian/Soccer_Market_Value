{
 "cells": [
  {
   "cell_type": "code",
   "execution_count": 1,
   "id": "4e05e761",
   "metadata": {},
   "outputs": [],
   "source": [
    "import pandas as pd\n",
    "import numpy as np\n",
    "from datetime import datetime\n",
    "import matplotlib.pyplot as plt\n",
    "pd.options.display.max_columns = None\n",
    "import seaborn as sns\n",
    "#https://www.kaggle.com/code/davidcoxon/football-transfer-market-eda-basic-modelling/notebook#Observation-on-revised-model"
   ]
  },
  {
   "cell_type": "code",
   "execution_count": 2,
   "id": "72a0d4c4",
   "metadata": {},
   "outputs": [],
   "source": [
    "appearances_df = pd.read_csv('https://query.data.world/s/uwuo6sxfqlzsbm6jhalo45win3eut4?dws=00000')\n",
    "clubs_df = pd.read_csv('https://query.data.world/s/qaze23ezd5erez5yxybgepvhj3e3af?dws=00000')\n",
    "club_games_df = pd.read_csv('https://query.data.world/s/cnbbhsthqv35pjvcnq2ial47jsgxkh?dws=00000')\n",
    "competitions_df = pd.read_csv('https://query.data.world/s/o6waa35f7hgvesipsqhh2ir7ymav3y?dws=00000')\n",
    "games_df = pd.read_csv('https://query.data.world/s/l4j3ct5jctslxloghv5plnmgnn3xww?dws=00000')\n",
    "game_events_df = pd.read_csv('https://query.data.world/s/np7xbqq6hjfxaeoei3n2tc5orqliia?dws=00000')\n",
    "players_df = pd.read_csv('https://query.data.world/s/gtwcwmx2rpe42p4a3upe4zh2yvaj2m?dws=00000')\n",
    "player_valuations_df = pd.read_csv('https://query.data.world/s/mlqges6k3mpachaluntpm6gbxnj37o?dws=00000')\n"
   ]
  },
  {
   "cell_type": "markdown",
   "id": "657f466a",
   "metadata": {},
   "source": [
    "## Data Processing"
   ]
  },
  {
   "cell_type": "code",
   "execution_count": 3,
   "id": "69f69d58",
   "metadata": {},
   "outputs": [],
   "source": [
    "#calculate the age of players\n",
    "players_df['date_of_birth'] = pd.to_datetime(players_df['date_of_birth'])\n",
    "\n",
    "#drop players without date of birth\n",
    "players_df = players_df[players_df['date_of_birth'].isnull() == False]\n",
    "\n",
    "today = datetime.now()\n",
    "\n",
    "players_df.loc[:, 'age'] = (today - players_df['date_of_birth']).apply(lambda x: x.days) / 365.25\n",
    "players_df.loc[:, 'age'] = players_df['age'].round().astype(int)\n"
   ]
  },
  {
   "cell_type": "code",
   "execution_count": 4,
   "id": "0014e8af",
   "metadata": {},
   "outputs": [],
   "source": [
    "#Calculate remaining contract value of each player\n",
    "players_df['contract_expiration_date'] = pd.to_datetime(players_df['contract_expiration_date'])\n",
    "\n",
    "#get rid of players with no expiration rdate\n",
    "players_df = players_df[players_df['contract_expiration_date'].isnull() == False]\n",
    "\n",
    "players_df['term_days_remaining'] = (players_df['contract_expiration_date'] - today).apply(lambda x: x.days)"
   ]
  },
  {
   "cell_type": "code",
   "execution_count": 5,
   "id": "c501d9b0",
   "metadata": {},
   "outputs": [],
   "source": [
    "# add year to player valuations\n",
    "player_valuations_df['datetime']=pd.to_datetime(player_valuations_df['datetime'])\n",
    "player_valuations_df['year']=player_valuations_df['datetime'].dt.year\n",
    "\n"
   ]
  },
  {
   "cell_type": "code",
   "execution_count": 6,
   "id": "d8caa5a2",
   "metadata": {},
   "outputs": [],
   "source": [
    "#add yar to player appearances\n",
    "appearances_df['datetime'] = pd.to_datetime(appearances_df['date'], format = \"%Y-%m-%d\")\n",
    "appearances_df['year'] = appearances_df['datetime'].dt.year"
   ]
  },
  {
   "cell_type": "code",
   "execution_count": 7,
   "id": "f6c22d42",
   "metadata": {},
   "outputs": [],
   "source": [
    "#add position to player valuations\n",
    "position_df=players_df.copy()\n",
    "position_df=position_df.drop(['name', 'current_club_id', 'current_club_name', 'country_of_citizenship', 'country_of_birth', \n",
    "                              'city_of_birth', 'date_of_birth', 'foot', 'height_in_cm', 'market_value_in_eur', \n",
    "                              'highest_market_value_in_eur', 'agent_name', 'contract_expiration_date', 'current_club_domestic_competition_id', \n",
    "                              'first_name', 'last_name', 'player_code', 'image_url', 'last_season', 'url', 'age'], axis=1)\n",
    "\n",
    "player_valuations_df = player_valuations_df.merge(\n",
    "position_df, left_on = 'player_id', right_on = 'player_id')"
   ]
  },
  {
   "cell_type": "code",
   "execution_count": 8,
   "id": "a080e134",
   "metadata": {},
   "outputs": [],
   "source": [
    "#add position to appearances\n",
    "#add position to appearances\n",
    "value_df=players_df.copy()\n",
    "value_df=value_df.drop(['name', 'current_club_id', 'current_club_name', 'country_of_citizenship', 'country_of_birth',\n",
    "                        'city_of_birth', 'date_of_birth', 'foot', 'height_in_cm', 'sub_position',\n",
    "                        'highest_market_value_in_eur', 'agent_name', 'contract_expiration_date', \n",
    "                        'current_club_domestic_competition_id', 'first_name', 'last_name', 'player_code', \n",
    "                        'image_url', 'last_season', 'url', 'age'], axis=1)\n",
    "appearances_df1=value_df.merge(appearances_df, left_on='player_id', right_on='player_id')"
   ]
  },
  {
   "cell_type": "markdown",
   "id": "fa7b5d9d",
   "metadata": {},
   "source": [
    "## Combining PLayer Data"
   ]
  },
  {
   "cell_type": "code",
   "execution_count": 9,
   "id": "b64af689",
   "metadata": {},
   "outputs": [],
   "source": [
    "merged_players_df=players_df.drop(['current_club_id', 'city_of_birth', 'date_of_birth','first_name',\n",
    "                                   'last_name', 'player_code', 'image_url', 'url'], axis=1)"
   ]
  },
  {
   "cell_type": "code",
   "execution_count": 10,
   "id": "6cc392ad",
   "metadata": {},
   "outputs": [],
   "source": [
    "#next look at clubs_df\n",
    "merged_players_df = merged_players_df.reindex(columns = merged_players_df.columns.tolist() + \n",
    "                                              ['club_value','squad_size','goals','goals_2023','games_2023',\n",
    "                                               'assists_2023','minutes_played_2023','goals_against_2023',\n",
    "                                               'goals_for_2023','clean_sheet_2023'])\n"
   ]
  },
  {
   "cell_type": "code",
   "execution_count": 11,
   "id": "97717f07",
   "metadata": {},
   "outputs": [],
   "source": [
    "for player_id in merged_players_df.player_id.unique():\n",
    "    club_id = players_df.current_club_id[players_df.player_id == player_id].iloc[0]\n",
    "    club_value = clubs_df.total_market_value[clubs_df.club_id == club_id].iloc[0]\n",
    "    squad_size = clubs_df.squad_size[clubs_df.club_id == club_id].iloc[0]\n",
    "    \n",
    "    try:\n",
    "        merged_players_df.loc[merged_players_df.player_id == player_id, 'club_value'] = int(club_value)\n",
    "    except:\n",
    "        merged_players_df.loc[merged_players_df.player_id == player_id, 'club_value'] = 'NaN'\n",
    "    \n",
    "    merged_players_df.loc[merged_players_df.player_id == player_id, 'squad_size'] = int(squad_size)\n",
    "    \n"
   ]
  },
  {
   "cell_type": "code",
   "execution_count": 12,
   "id": "8c47a3a1",
   "metadata": {},
   "outputs": [],
   "source": [
    "#sort column order\n",
    "columns=['player_id','games_2023','minutes_played_2023','goals_2023','assists_2023',\n",
    "         'goals_against_2023','goals_for_2023','clean_sheet_2023','name','position',\n",
    "         'sub_position','last_season','foot','height_in_cm','age','country_of_citizenship',\n",
    "         'country_of_birth','current_club_name','club_value','squad_size',\n",
    "         'current_club_domestic_competition_id','agent_name','contract_expiration_date',\n",
    "         'term_days_remaining','market_value_in_eur','highest_market_value_in_eur']\n",
    "merged_players_df=merged_players_df[columns]"
   ]
  },
  {
   "cell_type": "code",
   "execution_count": 13,
   "id": "3aa4c3fc",
   "metadata": {},
   "outputs": [],
   "source": [
    "#merge games and appearances\n",
    "games_and_appearances_df = appearances_df.merge(games_df, on=['game_id'], how='left')"
   ]
  },
  {
   "cell_type": "code",
   "execution_count": 14,
   "id": "4c9119c9",
   "metadata": {},
   "outputs": [],
   "source": [
    "season = 2022"
   ]
  },
  {
   "cell_type": "code",
   "execution_count": 15,
   "id": "24588897",
   "metadata": {},
   "outputs": [],
   "source": [
    "#create a function to collate player stats\n",
    "def player_stats(player_id, season, df):\n",
    "    df = games_and_appearances_df[games_and_appearances_df['player_id'] == player_id]\n",
    "    df =  df[ df['season'] == season]    \n",
    "    if (df.shape[0] == 0):\n",
    "        Out = [(np.nan, season,0,0,0,0,0,0,0,0,0)]\n",
    "        out_df = pd.DataFrame(data = Out, columns = ['player_id','season','goals','games',\n",
    "                                                     'assists','minutes_played','goals_for','goals_against',\n",
    "                                                     'clean_sheet','yellow_cards','red_cards'])\n",
    "        return out_df    \n",
    "    else:       \n",
    "        df[\"goals_for\"] = df.apply(lambda row: row['home_club_goals'] if row['home_club_id'] == row['player_club_id'] \n",
    "            else row['away_club_goals'] if row['away_club_id'] == row['player_club_id'] \n",
    "            else np.nan, axis=1)\n",
    "        df[\"goals_against\"] = df.apply(lambda row: row['away_club_goals'] if row['home_club_id'] == row['player_club_id'] \n",
    "            else row['home_club_goals'] if row['away_club_id'] == row['player_club_id'] \n",
    "            else np.nan, axis=1)\n",
    "        df['clean_sheet'] = df.apply(lambda row: 1 if row['goals_against'] == 0\n",
    "            else 0 if row['goals_against'] > 0\n",
    "            else np.nan, axis=1)\n",
    "        df = df.groupby(['player_id',\"season\"],as_index=False).agg({'goals': 'sum', 'game_id': 'nunique', \n",
    "                                                                      'assists': 'sum', 'minutes_played' : 'sum', \n",
    "                                                                    'goals_for' : 'sum',\n",
    "                                                                      'goals_against' : 'sum', 'clean_sheet' : \n",
    "                                                                    'sum','yellow_cards':'sum','red_cards':'sum'})\n",
    "        out_df = df.rename(columns={'game_id': 'games'})\n",
    "        return out_df\n",
    "#print(player_stats(67064, 2014, games_and_appearances_df)) #test function works.\n",
    "\n"
   ]
  },
  {
   "cell_type": "code",
   "execution_count": 16,
   "id": "37bba38e",
   "metadata": {},
   "outputs": [
    {
     "name": "stdout",
     "output_type": "stream",
     "text": [
      "appearance,goal and card data merged\n",
      "<class 'pandas.core.frame.DataFrame'>\n",
      "Index: 17938 entries, 21 to 28458\n",
      "Data columns (total 28 columns):\n",
      " #   Column                                Non-Null Count  Dtype         \n",
      "---  ------                                --------------  -----         \n",
      " 0   player_id                             17938 non-null  int64         \n",
      " 1   games_2023                            17938 non-null  float64       \n",
      " 2   minutes_played_2023                   17938 non-null  float64       \n",
      " 3   goals_2023                            17938 non-null  float64       \n",
      " 4   assists_2023                          17938 non-null  float64       \n",
      " 5   goals_against_2023                    17938 non-null  float64       \n",
      " 6   goals_for_2023                        17938 non-null  float64       \n",
      " 7   clean_sheet_2023                      17938 non-null  float64       \n",
      " 8   name                                  17938 non-null  object        \n",
      " 9   position                              17938 non-null  object        \n",
      " 10  sub_position                          17908 non-null  object        \n",
      " 11  last_season                           17938 non-null  int64         \n",
      " 12  foot                                  17103 non-null  object        \n",
      " 13  height_in_cm                          17195 non-null  float64       \n",
      " 14  age                                   17938 non-null  float64       \n",
      " 15  country_of_citizenship                17938 non-null  object        \n",
      " 16  country_of_birth                      16974 non-null  object        \n",
      " 17  current_club_name                     13409 non-null  object        \n",
      " 18  club_value                            17938 non-null  object        \n",
      " 19  squad_size                            17938 non-null  float64       \n",
      " 20  current_club_domestic_competition_id  17938 non-null  object        \n",
      " 21  agent_name                            10895 non-null  object        \n",
      " 22  contract_expiration_date              17938 non-null  datetime64[ns]\n",
      " 23  term_days_remaining                   17938 non-null  int64         \n",
      " 24  market_value_in_eur                   15742 non-null  float64       \n",
      " 25  highest_market_value_in_eur           17510 non-null  float64       \n",
      " 26  yellow_cards_2023                     17938 non-null  float64       \n",
      " 27  red_cards_2023                        17938 non-null  float64       \n",
      "dtypes: datetime64[ns](1), float64(14), int64(3), object(10)\n",
      "memory usage: 4.5+ MB\n",
      "None\n"
     ]
    }
   ],
   "source": [
    "#iterate through players\n",
    "for index in merged_players_df.index:\n",
    "    id = merged_players_df.loc[index][0]\n",
    "    #print(id)\n",
    "    name = merged_players_df.loc[index][1]\n",
    "    stats = player_stats(id, season, games_and_appearances_df)\n",
    "    try:\n",
    "        merged_players_df.at[index,'games_{}'.format(2023)]= stats['games'][0]\n",
    "        merged_players_df.at[index,'goals_{}'.format(2023)]= stats['goals'][0]\n",
    "        merged_players_df.at[index,'assists_{}'.format(2023)]= stats['assists'][0]\n",
    "        merged_players_df.at[index,'minutes_played_{}'.format(2023)]= stats['minutes_played'][0]\n",
    "        merged_players_df.at[index,'goals_for_{}'.format(2023)]= stats['goals_for'][0]\n",
    "        merged_players_df.at[index,'goals_against_{}'.format(2023)]= stats['goals_against'][0]\n",
    "        merged_players_df.at[index,'clean_sheet_{}'.format(2023)]= stats['clean_sheet'][0]\n",
    "        merged_players_df.at[index,'yellow_cards_{}'.format(2023)]= stats['yellow_cards'][0]\n",
    "        merged_players_df.at[index,'red_cards_{}'.format(2023)]= stats['red_cards'][0]\n",
    "    except:\n",
    "        #print(id)\n",
    "        n=n+1     \n",
    "print('appearance,goal and card data merged')\n",
    "print(merged_players_df.info());#print(merged_players_df.describe())"
   ]
  },
  {
   "cell_type": "code",
   "execution_count": 17,
   "id": "c8bd7d5d",
   "metadata": {},
   "outputs": [],
   "source": [
    "#get rid of players who have negative term_days_remaining\n",
    "merged_players_df = merged_players_df[merged_players_df.term_days_remaining >= 0]"
   ]
  },
  {
   "cell_type": "markdown",
   "id": "08d78c29",
   "metadata": {},
   "source": [
    "## Narrow down to big 5 leagues"
   ]
  },
  {
   "cell_type": "code",
   "execution_count": 18,
   "id": "cf8a9675",
   "metadata": {},
   "outputs": [],
   "source": [
    "big_five = ['GB1', 'L1', 'IT1', 'FR1', 'ES1']\n",
    "merged_players_df = merged_players_df[merged_players_df['current_club_domestic_competition_id'].isin(big_five)]"
   ]
  },
  {
   "cell_type": "markdown",
   "id": "4f947291",
   "metadata": {},
   "source": [
    "## Change Specific String Columns to Numeric Columns"
   ]
  },
  {
   "cell_type": "code",
   "execution_count": 19,
   "id": "efe21c12",
   "metadata": {},
   "outputs": [],
   "source": [
    "#convert right and left foot to numeric column\n",
    "merged_players_df.loc[:, 'foot'] = merged_players_df['foot'].map({'right' :1, 'left' :0})"
   ]
  },
  {
   "cell_type": "code",
   "execution_count": 20,
   "id": "5b0d7177",
   "metadata": {},
   "outputs": [],
   "source": [
    "#convert position to numeric column\n",
    "merged_players_df.loc[:, 'position'] = merged_players_df['position'].map({\n",
    "    'Goalkeeper': 0,\n",
    "    'Midfield' : 1,\n",
    "    'Defender': 2,\n",
    "    'Attack': 3,\n",
    "    'Missing': 4\n",
    "})"
   ]
  },
  {
   "cell_type": "code",
   "execution_count": 21,
   "id": "a1db0fc1",
   "metadata": {},
   "outputs": [],
   "source": [
    "#grab subpositions and create mapping\n",
    "subpositions = merged_players_df.sub_position.unique()\n",
    "\n",
    "subpos_map = {}\n",
    "\n",
    "for i in range(len(subpositions)):\n",
    "    subpos_map[subpositions[i]] = i"
   ]
  },
  {
   "cell_type": "code",
   "execution_count": 22,
   "id": "cd3641e7",
   "metadata": {},
   "outputs": [],
   "source": [
    "#substitute numeric values for subposition\n",
    "merged_players_df.loc[:, 'sub_position'] = merged_players_df['sub_position'].map(subpos_map)"
   ]
  },
  {
   "cell_type": "code",
   "execution_count": 23,
   "id": "cadc9bd8",
   "metadata": {},
   "outputs": [],
   "source": [
    "league_map = {}\n",
    "for i in range(len(big_five)):\n",
    "    league_map[big_five[i]] = i"
   ]
  },
  {
   "cell_type": "code",
   "execution_count": 24,
   "id": "d73d54d7",
   "metadata": {},
   "outputs": [],
   "source": [
    "#substitute numeric values for league\n",
    "merged_players_df.loc[:, 'current_club_domestic_competition_id'] = merged_players_df['current_club_domestic_competition_id'].map(league_map)"
   ]
  },
  {
   "cell_type": "code",
   "execution_count": 25,
   "id": "5f25e550",
   "metadata": {},
   "outputs": [],
   "source": [
    "numeric_cols = ['games_2023', 'minutes_played_2023', 'goals_2023', 'assists_2023', 'goals_against_2023',\n",
    "               'goals_for_2023', 'clean_sheet_2023', 'position', 'sub_position', 'foot', 'height_in_cm',\n",
    "               'age', 'term_days_remaining', 'market_value_in_eur', 'highest_market_value_in_eur', \n",
    "               'yellow_cards_2023', 'red_cards_2023', 'current_club_domestic_competition_id']"
   ]
  },
  {
   "cell_type": "code",
   "execution_count": 26,
   "id": "3e86681e",
   "metadata": {},
   "outputs": [],
   "source": [
    "num_merged = merged_players_df[numeric_cols]\n",
    "num_merged = num_merged.dropna()"
   ]
  },
  {
   "cell_type": "markdown",
   "id": "8a490182",
   "metadata": {},
   "source": [
    "### Narrow to Big 5 Leagues only and Export"
   ]
  },
  {
   "cell_type": "code",
   "execution_count": null,
   "id": "501ceb0d",
   "metadata": {},
   "outputs": [],
   "source": []
  },
  {
   "cell_type": "code",
   "execution_count": null,
   "id": "06ecac6b",
   "metadata": {},
   "outputs": [],
   "source": []
  },
  {
   "cell_type": "code",
   "execution_count": 27,
   "id": "e8fdc7c9",
   "metadata": {},
   "outputs": [],
   "source": [
    "num_merged.to_csv('data/2022_big5.csv', index = False)"
   ]
  },
  {
   "cell_type": "code",
   "execution_count": null,
   "id": "66cda980",
   "metadata": {},
   "outputs": [],
   "source": []
  }
 ],
 "metadata": {
  "kernelspec": {
   "display_name": "Python 3 (ipykernel)",
   "language": "python",
   "name": "python3"
  },
  "language_info": {
   "codemirror_mode": {
    "name": "ipython",
    "version": 3
   },
   "file_extension": ".py",
   "mimetype": "text/x-python",
   "name": "python",
   "nbconvert_exporter": "python",
   "pygments_lexer": "ipython3",
   "version": "3.11.5"
  }
 },
 "nbformat": 4,
 "nbformat_minor": 5
}
