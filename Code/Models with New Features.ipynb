{
 "cells": [
  {
   "cell_type": "code",
   "execution_count": 1,
   "id": "ce777448",
   "metadata": {},
   "outputs": [],
   "source": [
    "import pandas as pd\n",
    "import numpy as np\n",
    "from datetime import datetime\n",
    "import matplotlib.pyplot as plt\n",
    "pd.options.display.max_columns = None\n",
    "\n",
    "from sklearn.model_selection import train_test_split\n",
    "from sklearn.linear_model import LinearRegression, LogisticRegression\n",
    "from sklearn.svm import SVR\n",
    "from sklearn.metrics import r2_score, accuracy_score\n",
    "from sklearn.ensemble import GradientBoostingRegressor, AdaBoostRegressor, RandomForestRegressor\n",
    "import time\n",
    "from sklearn.tree import DecisionTreeRegressor\n",
    "import xgboost as xgb"
   ]
  },
  {
   "cell_type": "markdown",
   "id": "a59a2b7e",
   "metadata": {},
   "source": [
    "## Read in Dataset, and exclude 0 weighted columns as well as Highest Market value"
   ]
  },
  {
   "cell_type": "code",
   "execution_count": 2,
   "id": "c8de260c",
   "metadata": {},
   "outputs": [],
   "source": [
    "num_merged = pd.read_csv('data/2023_num_merged_cleaned.csv', header = 0)"
   ]
  },
  {
   "cell_type": "code",
   "execution_count": 3,
   "id": "2ec81e2d",
   "metadata": {},
   "outputs": [],
   "source": [
    "merged_cols = np.array(num_merged.columns)\n",
    "#exclude = ['market_value_in_eur', 'highest_market_value_in_eur']\n",
    "\n",
    "#new_X_col = [item for item in merged_cols if item not in exclude]\n",
    "\n",
    "include = ['position', 'sub_position', 'foot', 'height_in_cm', 'age', 'term_days_remaining', 'yellow_cards_2023',\n",
    "          'red_cards_2023', 'current_club_domestic_competition_id', 'highest_market_value_in_eur']\n",
    "\n",
    "X_col = [item for item in merged_cols if item in include]\n",
    "#X_col = [item for item in merged_cols if item not in exclude]\n",
    "y_col = 'market_value_in_eur'\n"
   ]
  },
  {
   "cell_type": "code",
   "execution_count": 4,
   "id": "f5542eba",
   "metadata": {},
   "outputs": [
    {
     "data": {
      "text/plain": [
       "['position',\n",
       " 'sub_position',\n",
       " 'foot',\n",
       " 'height_in_cm',\n",
       " 'age',\n",
       " 'term_days_remaining',\n",
       " 'highest_market_value_in_eur',\n",
       " 'yellow_cards_2023',\n",
       " 'red_cards_2023',\n",
       " 'current_club_domestic_competition_id']"
      ]
     },
     "execution_count": 4,
     "metadata": {},
     "output_type": "execute_result"
    }
   ],
   "source": [
    "X_col"
   ]
  },
  {
   "cell_type": "code",
   "execution_count": 5,
   "id": "2201b079",
   "metadata": {},
   "outputs": [],
   "source": [
    "X = num_merged[X_col]\n",
    "y = num_merged[y_col]"
   ]
  },
  {
   "cell_type": "code",
   "execution_count": 6,
   "id": "6705c848",
   "metadata": {},
   "outputs": [],
   "source": [
    "X_train, X_test, y_train, y_test = train_test_split(X, y, test_size=0.25,random_state=19)"
   ]
  },
  {
   "cell_type": "markdown",
   "id": "36556585",
   "metadata": {},
   "source": []
  },
  {
   "cell_type": "code",
   "execution_count": 7,
   "id": "ccf7cccb",
   "metadata": {},
   "outputs": [],
   "source": [
    "model_list = []"
   ]
  },
  {
   "cell_type": "code",
   "execution_count": 8,
   "id": "21ae046e",
   "metadata": {},
   "outputs": [],
   "source": [
    "linreg = LinearRegression()\n",
    "linreg.fit(X_train, y_train)\n",
    "model_list.append(linreg)"
   ]
  },
  {
   "cell_type": "code",
   "execution_count": 9,
   "id": "2f9ed382",
   "metadata": {},
   "outputs": [
    {
     "data": {
      "text/html": [
       "<style>#sk-container-id-1 {color: black;}#sk-container-id-1 pre{padding: 0;}#sk-container-id-1 div.sk-toggleable {background-color: white;}#sk-container-id-1 label.sk-toggleable__label {cursor: pointer;display: block;width: 100%;margin-bottom: 0;padding: 0.3em;box-sizing: border-box;text-align: center;}#sk-container-id-1 label.sk-toggleable__label-arrow:before {content: \"▸\";float: left;margin-right: 0.25em;color: #696969;}#sk-container-id-1 label.sk-toggleable__label-arrow:hover:before {color: black;}#sk-container-id-1 div.sk-estimator:hover label.sk-toggleable__label-arrow:before {color: black;}#sk-container-id-1 div.sk-toggleable__content {max-height: 0;max-width: 0;overflow: hidden;text-align: left;background-color: #f0f8ff;}#sk-container-id-1 div.sk-toggleable__content pre {margin: 0.2em;color: black;border-radius: 0.25em;background-color: #f0f8ff;}#sk-container-id-1 input.sk-toggleable__control:checked~div.sk-toggleable__content {max-height: 200px;max-width: 100%;overflow: auto;}#sk-container-id-1 input.sk-toggleable__control:checked~label.sk-toggleable__label-arrow:before {content: \"▾\";}#sk-container-id-1 div.sk-estimator input.sk-toggleable__control:checked~label.sk-toggleable__label {background-color: #d4ebff;}#sk-container-id-1 div.sk-label input.sk-toggleable__control:checked~label.sk-toggleable__label {background-color: #d4ebff;}#sk-container-id-1 input.sk-hidden--visually {border: 0;clip: rect(1px 1px 1px 1px);clip: rect(1px, 1px, 1px, 1px);height: 1px;margin: -1px;overflow: hidden;padding: 0;position: absolute;width: 1px;}#sk-container-id-1 div.sk-estimator {font-family: monospace;background-color: #f0f8ff;border: 1px dotted black;border-radius: 0.25em;box-sizing: border-box;margin-bottom: 0.5em;}#sk-container-id-1 div.sk-estimator:hover {background-color: #d4ebff;}#sk-container-id-1 div.sk-parallel-item::after {content: \"\";width: 100%;border-bottom: 1px solid gray;flex-grow: 1;}#sk-container-id-1 div.sk-label:hover label.sk-toggleable__label {background-color: #d4ebff;}#sk-container-id-1 div.sk-serial::before {content: \"\";position: absolute;border-left: 1px solid gray;box-sizing: border-box;top: 0;bottom: 0;left: 50%;z-index: 0;}#sk-container-id-1 div.sk-serial {display: flex;flex-direction: column;align-items: center;background-color: white;padding-right: 0.2em;padding-left: 0.2em;position: relative;}#sk-container-id-1 div.sk-item {position: relative;z-index: 1;}#sk-container-id-1 div.sk-parallel {display: flex;align-items: stretch;justify-content: center;background-color: white;position: relative;}#sk-container-id-1 div.sk-item::before, #sk-container-id-1 div.sk-parallel-item::before {content: \"\";position: absolute;border-left: 1px solid gray;box-sizing: border-box;top: 0;bottom: 0;left: 50%;z-index: -1;}#sk-container-id-1 div.sk-parallel-item {display: flex;flex-direction: column;z-index: 1;position: relative;background-color: white;}#sk-container-id-1 div.sk-parallel-item:first-child::after {align-self: flex-end;width: 50%;}#sk-container-id-1 div.sk-parallel-item:last-child::after {align-self: flex-start;width: 50%;}#sk-container-id-1 div.sk-parallel-item:only-child::after {width: 0;}#sk-container-id-1 div.sk-dashed-wrapped {border: 1px dashed gray;margin: 0 0.4em 0.5em 0.4em;box-sizing: border-box;padding-bottom: 0.4em;background-color: white;}#sk-container-id-1 div.sk-label label {font-family: monospace;font-weight: bold;display: inline-block;line-height: 1.2em;}#sk-container-id-1 div.sk-label-container {text-align: center;}#sk-container-id-1 div.sk-container {/* jupyter's `normalize.less` sets `[hidden] { display: none; }` but bootstrap.min.css set `[hidden] { display: none !important; }` so we also need the `!important` here to be able to override the default hidden behavior on the sphinx rendered scikit-learn.org. See: https://github.com/scikit-learn/scikit-learn/issues/21755 */display: inline-block !important;position: relative;}#sk-container-id-1 div.sk-text-repr-fallback {display: none;}</style><div id=\"sk-container-id-1\" class=\"sk-top-container\"><div class=\"sk-text-repr-fallback\"><pre>RandomForestRegressor(max_depth=5, random_state=19)</pre><b>In a Jupyter environment, please rerun this cell to show the HTML representation or trust the notebook. <br />On GitHub, the HTML representation is unable to render, please try loading this page with nbviewer.org.</b></div><div class=\"sk-container\" hidden><div class=\"sk-item\"><div class=\"sk-estimator sk-toggleable\"><input class=\"sk-toggleable__control sk-hidden--visually\" id=\"sk-estimator-id-1\" type=\"checkbox\" checked><label for=\"sk-estimator-id-1\" class=\"sk-toggleable__label sk-toggleable__label-arrow\">RandomForestRegressor</label><div class=\"sk-toggleable__content\"><pre>RandomForestRegressor(max_depth=5, random_state=19)</pre></div></div></div></div></div>"
      ],
      "text/plain": [
       "RandomForestRegressor(max_depth=5, random_state=19)"
      ]
     },
     "execution_count": 9,
     "metadata": {},
     "output_type": "execute_result"
    }
   ],
   "source": [
    "forest1 = RandomForestRegressor(n_estimators = 100, max_depth = 5, random_state = 19)\n",
    "forest1.fit(X_train, y_train)"
   ]
  },
  {
   "cell_type": "code",
   "execution_count": 10,
   "id": "40ae7f6c",
   "metadata": {},
   "outputs": [],
   "source": [
    "model_list.append(forest1)"
   ]
  },
  {
   "cell_type": "code",
   "execution_count": 11,
   "id": "d38d4090",
   "metadata": {},
   "outputs": [],
   "source": [
    "dtr1 = DecisionTreeRegressor(max_depth = 6, random_state = 19)\n",
    "dtr1.fit(X_train, y_train)\n",
    "model_list.append(dtr1)"
   ]
  },
  {
   "cell_type": "code",
   "execution_count": 12,
   "id": "e226fb43",
   "metadata": {},
   "outputs": [],
   "source": [
    "gbc1 = GradientBoostingRegressor(random_state = 19, n_estimators = 200, learning_rate = 0.1, max_depth = 5)\n",
    "gbc1.fit(X_train, y_train)\n",
    "model_list.append(gbc1)"
   ]
  },
  {
   "cell_type": "code",
   "execution_count": 13,
   "id": "c98f15be",
   "metadata": {},
   "outputs": [],
   "source": [
    "xg_reg = xgb.XGBRegressor(objective ='reg:squarederror',  learning_rate = 0.1,\n",
    "                max_depth = 5, alpha = 10, #n_estimators = 10\n",
    "                         )\n",
    "xg_reg.fit(X_train, y_train)\n",
    "model_list.append(xg_reg)"
   ]
  },
  {
   "cell_type": "code",
   "execution_count": null,
   "id": "89dd1c8b",
   "metadata": {},
   "outputs": [],
   "source": []
  },
  {
   "cell_type": "code",
   "execution_count": 14,
   "id": "77bff07c",
   "metadata": {},
   "outputs": [
    {
     "name": "stdout",
     "output_type": "stream",
     "text": [
      "Accuracy on the 2023 data \n",
      "\n",
      "LinearRegression  accuracy:  0.8120771117088027 \n",
      "\n",
      "RandomForestRegressor  accuracy:  0.8797724146825466 \n",
      "\n",
      "DecisionTreeRegressor  accuracy:  0.8449129533789984 \n",
      "\n",
      "GradientBoostingRegressor  accuracy:  0.8736470224988069 \n",
      "\n",
      "XGBRegressor  accuracy:  0.8488410268661266 \n",
      "\n"
     ]
    }
   ],
   "source": [
    "print(\"Accuracy on the 2023 data \\n\")\n",
    "for model in model_list:\n",
    "    \n",
    "    try:\n",
    "        this_acc = model.score(X_test,y_test)\n",
    "        print(type(model).__name__,\" accuracy: \", this_acc, \"\\n\")\n",
    "    except:\n",
    "        print(type(model).__name__,\" can't do this\")\n"
   ]
  },
  {
   "cell_type": "code",
   "execution_count": null,
   "id": "30a2ee8f",
   "metadata": {},
   "outputs": [],
   "source": []
  },
  {
   "cell_type": "code",
   "execution_count": null,
   "id": "ec4fdcc6",
   "metadata": {},
   "outputs": [],
   "source": []
  },
  {
   "cell_type": "code",
   "execution_count": null,
   "id": "53e5f29a",
   "metadata": {},
   "outputs": [],
   "source": []
  },
  {
   "cell_type": "code",
   "execution_count": null,
   "id": "fa24df6f",
   "metadata": {},
   "outputs": [],
   "source": []
  },
  {
   "cell_type": "code",
   "execution_count": null,
   "id": "d0cb78d9",
   "metadata": {},
   "outputs": [],
   "source": []
  }
 ],
 "metadata": {
  "kernelspec": {
   "display_name": "Python 3 (ipykernel)",
   "language": "python",
   "name": "python3"
  },
  "language_info": {
   "codemirror_mode": {
    "name": "ipython",
    "version": 3
   },
   "file_extension": ".py",
   "mimetype": "text/x-python",
   "name": "python",
   "nbconvert_exporter": "python",
   "pygments_lexer": "ipython3",
   "version": "3.11.5"
  }
 },
 "nbformat": 4,
 "nbformat_minor": 5
}
