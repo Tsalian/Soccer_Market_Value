{
 "cells": [
  {
   "cell_type": "code",
   "execution_count": 67,
   "id": "01285f58",
   "metadata": {},
   "outputs": [],
   "source": [
    "import pandas as pd\n",
    "import numpy as np\n",
    "from sklearn.model_selection import train_test_split, GridSearchCV\n",
    "from sklearn.ensemble import GradientBoostingRegressor\n",
    "from xgboost.sklearn import XGBRegressor\n",
    "\n",
    "import time"
   ]
  },
  {
   "cell_type": "code",
   "execution_count": 68,
   "id": "fde5a2f2",
   "metadata": {},
   "outputs": [],
   "source": [
    "num_merged = pd.read_csv('data/2023_num_merged_cleaned.csv', header = 0)"
   ]
  },
  {
   "cell_type": "code",
   "execution_count": 69,
   "id": "9bca783f",
   "metadata": {},
   "outputs": [
    {
     "data": {
      "text/html": [
       "<div>\n",
       "<style scoped>\n",
       "    .dataframe tbody tr th:only-of-type {\n",
       "        vertical-align: middle;\n",
       "    }\n",
       "\n",
       "    .dataframe tbody tr th {\n",
       "        vertical-align: top;\n",
       "    }\n",
       "\n",
       "    .dataframe thead th {\n",
       "        text-align: right;\n",
       "    }\n",
       "</style>\n",
       "<table border=\"1\" class=\"dataframe\">\n",
       "  <thead>\n",
       "    <tr style=\"text-align: right;\">\n",
       "      <th></th>\n",
       "      <th>games_2023</th>\n",
       "      <th>minutes_played_2023</th>\n",
       "      <th>goals_2023</th>\n",
       "      <th>assists_2023</th>\n",
       "      <th>goals_against_2023</th>\n",
       "      <th>goals_for_2023</th>\n",
       "      <th>clean_sheet_2023</th>\n",
       "      <th>position</th>\n",
       "      <th>sub_position</th>\n",
       "      <th>foot</th>\n",
       "      <th>height_in_cm</th>\n",
       "      <th>age</th>\n",
       "      <th>term_days_remaining</th>\n",
       "      <th>market_value_in_eur</th>\n",
       "      <th>highest_market_value_in_eur</th>\n",
       "      <th>yellow_cards_2023</th>\n",
       "      <th>red_cards_2023</th>\n",
       "      <th>current_club_domestic_competition_id</th>\n",
       "    </tr>\n",
       "  </thead>\n",
       "  <tbody>\n",
       "    <tr>\n",
       "      <th>0</th>\n",
       "      <td>0.0</td>\n",
       "      <td>0.0</td>\n",
       "      <td>0.0</td>\n",
       "      <td>0.0</td>\n",
       "      <td>0.0</td>\n",
       "      <td>0.0</td>\n",
       "      <td>0.0</td>\n",
       "      <td>0</td>\n",
       "      <td>0</td>\n",
       "      <td>1.0</td>\n",
       "      <td>191.0</td>\n",
       "      <td>37.0</td>\n",
       "      <td>67</td>\n",
       "      <td>400000.0</td>\n",
       "      <td>4000000.0</td>\n",
       "      <td>0.0</td>\n",
       "      <td>0.0</td>\n",
       "      <td>3</td>\n",
       "    </tr>\n",
       "    <tr>\n",
       "      <th>1</th>\n",
       "      <td>0.0</td>\n",
       "      <td>0.0</td>\n",
       "      <td>0.0</td>\n",
       "      <td>0.0</td>\n",
       "      <td>0.0</td>\n",
       "      <td>0.0</td>\n",
       "      <td>0.0</td>\n",
       "      <td>0</td>\n",
       "      <td>0</td>\n",
       "      <td>1.0</td>\n",
       "      <td>189.0</td>\n",
       "      <td>37.0</td>\n",
       "      <td>67</td>\n",
       "      <td>1500000.0</td>\n",
       "      <td>8000000.0</td>\n",
       "      <td>0.0</td>\n",
       "      <td>0.0</td>\n",
       "      <td>2</td>\n",
       "    </tr>\n",
       "    <tr>\n",
       "      <th>2</th>\n",
       "      <td>0.0</td>\n",
       "      <td>0.0</td>\n",
       "      <td>0.0</td>\n",
       "      <td>0.0</td>\n",
       "      <td>0.0</td>\n",
       "      <td>0.0</td>\n",
       "      <td>0.0</td>\n",
       "      <td>1</td>\n",
       "      <td>1</td>\n",
       "      <td>1.0</td>\n",
       "      <td>185.0</td>\n",
       "      <td>35.0</td>\n",
       "      <td>67</td>\n",
       "      <td>1200000.0</td>\n",
       "      <td>15000000.0</td>\n",
       "      <td>0.0</td>\n",
       "      <td>0.0</td>\n",
       "      <td>0</td>\n",
       "    </tr>\n",
       "    <tr>\n",
       "      <th>3</th>\n",
       "      <td>0.0</td>\n",
       "      <td>0.0</td>\n",
       "      <td>0.0</td>\n",
       "      <td>0.0</td>\n",
       "      <td>0.0</td>\n",
       "      <td>0.0</td>\n",
       "      <td>0.0</td>\n",
       "      <td>2</td>\n",
       "      <td>2</td>\n",
       "      <td>0.0</td>\n",
       "      <td>174.0</td>\n",
       "      <td>36.0</td>\n",
       "      <td>251</td>\n",
       "      <td>2000000.0</td>\n",
       "      <td>70000000.0</td>\n",
       "      <td>0.0</td>\n",
       "      <td>0.0</td>\n",
       "      <td>4</td>\n",
       "    </tr>\n",
       "    <tr>\n",
       "      <th>4</th>\n",
       "      <td>0.0</td>\n",
       "      <td>0.0</td>\n",
       "      <td>0.0</td>\n",
       "      <td>0.0</td>\n",
       "      <td>0.0</td>\n",
       "      <td>0.0</td>\n",
       "      <td>0.0</td>\n",
       "      <td>1</td>\n",
       "      <td>1</td>\n",
       "      <td>1.0</td>\n",
       "      <td>186.0</td>\n",
       "      <td>35.0</td>\n",
       "      <td>67</td>\n",
       "      <td>800000.0</td>\n",
       "      <td>5000000.0</td>\n",
       "      <td>0.0</td>\n",
       "      <td>0.0</td>\n",
       "      <td>2</td>\n",
       "    </tr>\n",
       "    <tr>\n",
       "      <th>...</th>\n",
       "      <td>...</td>\n",
       "      <td>...</td>\n",
       "      <td>...</td>\n",
       "      <td>...</td>\n",
       "      <td>...</td>\n",
       "      <td>...</td>\n",
       "      <td>...</td>\n",
       "      <td>...</td>\n",
       "      <td>...</td>\n",
       "      <td>...</td>\n",
       "      <td>...</td>\n",
       "      <td>...</td>\n",
       "      <td>...</td>\n",
       "      <td>...</td>\n",
       "      <td>...</td>\n",
       "      <td>...</td>\n",
       "      <td>...</td>\n",
       "      <td>...</td>\n",
       "    </tr>\n",
       "    <tr>\n",
       "      <th>3397</th>\n",
       "      <td>0.0</td>\n",
       "      <td>0.0</td>\n",
       "      <td>0.0</td>\n",
       "      <td>0.0</td>\n",
       "      <td>0.0</td>\n",
       "      <td>0.0</td>\n",
       "      <td>0.0</td>\n",
       "      <td>1</td>\n",
       "      <td>1</td>\n",
       "      <td>1.0</td>\n",
       "      <td>186.0</td>\n",
       "      <td>30.0</td>\n",
       "      <td>67</td>\n",
       "      <td>14000000.0</td>\n",
       "      <td>40000000.0</td>\n",
       "      <td>0.0</td>\n",
       "      <td>0.0</td>\n",
       "      <td>1</td>\n",
       "    </tr>\n",
       "    <tr>\n",
       "      <th>3398</th>\n",
       "      <td>0.0</td>\n",
       "      <td>0.0</td>\n",
       "      <td>0.0</td>\n",
       "      <td>0.0</td>\n",
       "      <td>0.0</td>\n",
       "      <td>0.0</td>\n",
       "      <td>0.0</td>\n",
       "      <td>3</td>\n",
       "      <td>8</td>\n",
       "      <td>1.0</td>\n",
       "      <td>175.0</td>\n",
       "      <td>29.0</td>\n",
       "      <td>67</td>\n",
       "      <td>28000000.0</td>\n",
       "      <td>45000000.0</td>\n",
       "      <td>0.0</td>\n",
       "      <td>0.0</td>\n",
       "      <td>2</td>\n",
       "    </tr>\n",
       "    <tr>\n",
       "      <th>3399</th>\n",
       "      <td>0.0</td>\n",
       "      <td>0.0</td>\n",
       "      <td>0.0</td>\n",
       "      <td>0.0</td>\n",
       "      <td>0.0</td>\n",
       "      <td>0.0</td>\n",
       "      <td>0.0</td>\n",
       "      <td>3</td>\n",
       "      <td>9</td>\n",
       "      <td>0.0</td>\n",
       "      <td>180.0</td>\n",
       "      <td>22.0</td>\n",
       "      <td>1162</td>\n",
       "      <td>35000000.0</td>\n",
       "      <td>35000000.0</td>\n",
       "      <td>0.0</td>\n",
       "      <td>0.0</td>\n",
       "      <td>1</td>\n",
       "    </tr>\n",
       "    <tr>\n",
       "      <th>3400</th>\n",
       "      <td>0.0</td>\n",
       "      <td>0.0</td>\n",
       "      <td>0.0</td>\n",
       "      <td>0.0</td>\n",
       "      <td>0.0</td>\n",
       "      <td>0.0</td>\n",
       "      <td>0.0</td>\n",
       "      <td>1</td>\n",
       "      <td>7</td>\n",
       "      <td>1.0</td>\n",
       "      <td>186.0</td>\n",
       "      <td>21.0</td>\n",
       "      <td>432</td>\n",
       "      <td>120000000.0</td>\n",
       "      <td>120000000.0</td>\n",
       "      <td>0.0</td>\n",
       "      <td>0.0</td>\n",
       "      <td>1</td>\n",
       "    </tr>\n",
       "    <tr>\n",
       "      <th>3401</th>\n",
       "      <td>0.0</td>\n",
       "      <td>0.0</td>\n",
       "      <td>0.0</td>\n",
       "      <td>0.0</td>\n",
       "      <td>0.0</td>\n",
       "      <td>0.0</td>\n",
       "      <td>0.0</td>\n",
       "      <td>2</td>\n",
       "      <td>4</td>\n",
       "      <td>0.0</td>\n",
       "      <td>191.0</td>\n",
       "      <td>21.0</td>\n",
       "      <td>797</td>\n",
       "      <td>1000000.0</td>\n",
       "      <td>1000000.0</td>\n",
       "      <td>0.0</td>\n",
       "      <td>0.0</td>\n",
       "      <td>1</td>\n",
       "    </tr>\n",
       "  </tbody>\n",
       "</table>\n",
       "<p>3402 rows × 18 columns</p>\n",
       "</div>"
      ],
      "text/plain": [
       "      games_2023  minutes_played_2023  goals_2023  assists_2023  \\\n",
       "0            0.0                  0.0         0.0           0.0   \n",
       "1            0.0                  0.0         0.0           0.0   \n",
       "2            0.0                  0.0         0.0           0.0   \n",
       "3            0.0                  0.0         0.0           0.0   \n",
       "4            0.0                  0.0         0.0           0.0   \n",
       "...          ...                  ...         ...           ...   \n",
       "3397         0.0                  0.0         0.0           0.0   \n",
       "3398         0.0                  0.0         0.0           0.0   \n",
       "3399         0.0                  0.0         0.0           0.0   \n",
       "3400         0.0                  0.0         0.0           0.0   \n",
       "3401         0.0                  0.0         0.0           0.0   \n",
       "\n",
       "      goals_against_2023  goals_for_2023  clean_sheet_2023  position  \\\n",
       "0                    0.0             0.0               0.0         0   \n",
       "1                    0.0             0.0               0.0         0   \n",
       "2                    0.0             0.0               0.0         1   \n",
       "3                    0.0             0.0               0.0         2   \n",
       "4                    0.0             0.0               0.0         1   \n",
       "...                  ...             ...               ...       ...   \n",
       "3397                 0.0             0.0               0.0         1   \n",
       "3398                 0.0             0.0               0.0         3   \n",
       "3399                 0.0             0.0               0.0         3   \n",
       "3400                 0.0             0.0               0.0         1   \n",
       "3401                 0.0             0.0               0.0         2   \n",
       "\n",
       "      sub_position  foot  height_in_cm   age  term_days_remaining  \\\n",
       "0                0   1.0         191.0  37.0                   67   \n",
       "1                0   1.0         189.0  37.0                   67   \n",
       "2                1   1.0         185.0  35.0                   67   \n",
       "3                2   0.0         174.0  36.0                  251   \n",
       "4                1   1.0         186.0  35.0                   67   \n",
       "...            ...   ...           ...   ...                  ...   \n",
       "3397             1   1.0         186.0  30.0                   67   \n",
       "3398             8   1.0         175.0  29.0                   67   \n",
       "3399             9   0.0         180.0  22.0                 1162   \n",
       "3400             7   1.0         186.0  21.0                  432   \n",
       "3401             4   0.0         191.0  21.0                  797   \n",
       "\n",
       "      market_value_in_eur  highest_market_value_in_eur  yellow_cards_2023  \\\n",
       "0                400000.0                    4000000.0                0.0   \n",
       "1               1500000.0                    8000000.0                0.0   \n",
       "2               1200000.0                   15000000.0                0.0   \n",
       "3               2000000.0                   70000000.0                0.0   \n",
       "4                800000.0                    5000000.0                0.0   \n",
       "...                   ...                          ...                ...   \n",
       "3397           14000000.0                   40000000.0                0.0   \n",
       "3398           28000000.0                   45000000.0                0.0   \n",
       "3399           35000000.0                   35000000.0                0.0   \n",
       "3400          120000000.0                  120000000.0                0.0   \n",
       "3401            1000000.0                    1000000.0                0.0   \n",
       "\n",
       "      red_cards_2023  current_club_domestic_competition_id  \n",
       "0                0.0                                     3  \n",
       "1                0.0                                     2  \n",
       "2                0.0                                     0  \n",
       "3                0.0                                     4  \n",
       "4                0.0                                     2  \n",
       "...              ...                                   ...  \n",
       "3397             0.0                                     1  \n",
       "3398             0.0                                     2  \n",
       "3399             0.0                                     1  \n",
       "3400             0.0                                     1  \n",
       "3401             0.0                                     1  \n",
       "\n",
       "[3402 rows x 18 columns]"
      ]
     },
     "execution_count": 69,
     "metadata": {},
     "output_type": "execute_result"
    }
   ],
   "source": [
    "num_merged"
   ]
  },
  {
   "cell_type": "code",
   "execution_count": 70,
   "id": "c67510af",
   "metadata": {},
   "outputs": [],
   "source": [
    "merged_cols = np.array(num_merged.columns)\n",
    "X_col = merged_cols[merged_cols != 'market_value_in_eur']\n",
    "y_col = 'market_value_in_eur'\n",
    "\n",
    "X = num_merged[X_col]\n",
    "y = num_merged[y_col]"
   ]
  },
  {
   "cell_type": "code",
   "execution_count": 71,
   "id": "da6e58ce",
   "metadata": {},
   "outputs": [],
   "source": [
    "X_train, X_test, y_train, y_test = train_test_split(X, y, test_size=0.25,random_state=19)"
   ]
  },
  {
   "cell_type": "markdown",
   "id": "b9d3b55f",
   "metadata": {},
   "source": [
    "## Attempt to GridSearch GradientBoostingRegressor"
   ]
  },
  {
   "cell_type": "code",
   "execution_count": 72,
   "id": "9f915249",
   "metadata": {},
   "outputs": [],
   "source": [
    "gbr = GradientBoostingRegressor(random_state = 19)"
   ]
  },
  {
   "cell_type": "code",
   "execution_count": 73,
   "id": "68479aa1",
   "metadata": {},
   "outputs": [],
   "source": [
    "gbr_param_grid = {\n",
    "    'n_estimators': [100, 200, 300, 400, 500, 600],\n",
    "    'learning_rate': [0.01, 0.05, 0.1, 0.15, 0.2, 0.25, 0.3],\n",
    "    'max_depth': [3,4,5,6,7],\n",
    "    'subsample': [0.5, 0.7, 1.0]\n",
    "}"
   ]
  },
  {
   "cell_type": "code",
   "execution_count": 74,
   "id": "f8fae5f5",
   "metadata": {},
   "outputs": [],
   "source": [
    "gbr_search = GridSearchCV(estimator = gbr,\n",
    "                         param_grid = gbr_param_grid,\n",
    "                         cv =5,\n",
    "                         n_jobs = 4)"
   ]
  },
  {
   "cell_type": "code",
   "execution_count": 75,
   "id": "866dd250",
   "metadata": {},
   "outputs": [],
   "source": [
    "start = time.time()\n",
    "\n",
    "gbr_search.fit(X_train, y_train)\n",
    "\n",
    "end = time.time()\n",
    "\n"
   ]
  },
  {
   "cell_type": "code",
   "execution_count": 76,
   "id": "88b2c6dc",
   "metadata": {},
   "outputs": [
    {
     "name": "stdout",
     "output_type": "stream",
     "text": [
      "time taken:  10.034581780433655\n"
     ]
    }
   ],
   "source": [
    "print('time taken: ', (end - start)/60)"
   ]
  },
  {
   "cell_type": "code",
   "execution_count": 77,
   "id": "07cfd0f1",
   "metadata": {},
   "outputs": [],
   "source": [
    "best_params = gbr_search.best_params_"
   ]
  },
  {
   "cell_type": "code",
   "execution_count": 78,
   "id": "76cc2145",
   "metadata": {},
   "outputs": [
    {
     "data": {
      "text/plain": [
       "{'learning_rate': 0.01, 'max_depth': 3, 'n_estimators': 500, 'subsample': 0.7}"
      ]
     },
     "execution_count": 78,
     "metadata": {},
     "output_type": "execute_result"
    }
   ],
   "source": [
    "best_params"
   ]
  },
  {
   "cell_type": "code",
   "execution_count": 79,
   "id": "402b94ff",
   "metadata": {},
   "outputs": [],
   "source": [
    "best_gbr = gbr_search.best_estimator_"
   ]
  },
  {
   "cell_type": "code",
   "execution_count": 80,
   "id": "d4f40307",
   "metadata": {},
   "outputs": [],
   "source": [
    "best_gbr_test_score = best_gbr.score(X_test, y_test)"
   ]
  },
  {
   "cell_type": "code",
   "execution_count": 81,
   "id": "ef238648",
   "metadata": {},
   "outputs": [
    {
     "name": "stdout",
     "output_type": "stream",
     "text": [
      "Best GBR Model Accuracy Score:  0.8887433206671332\n"
     ]
    }
   ],
   "source": [
    "print('Best GBR Model Accuracy Score: ', best_gbr_test_score)"
   ]
  },
  {
   "cell_type": "markdown",
   "id": "b2dc7a7e",
   "metadata": {},
   "source": [
    "## Gridsearch XGboost"
   ]
  },
  {
   "cell_type": "code",
   "execution_count": 82,
   "id": "887dd76e",
   "metadata": {},
   "outputs": [],
   "source": [
    "xgboost = XGBRegressor()"
   ]
  },
  {
   "cell_type": "code",
   "execution_count": 83,
   "id": "a13fd804",
   "metadata": {},
   "outputs": [],
   "source": [
    "xg_grid = {\n",
    "    'objective': ['reg:squarederror'],\n",
    "    'n_estimators': [10,30,50,70,80,100,150, 175,200,300],\n",
    "    'learning_rate': [0.03, 0.05, 0.07, 0.1, 0.15, 0.2],\n",
    "    'max_depth': [3,4,5],\n",
    "    'min_child_weight': [3,4,5],\n",
    "    'subsample': [0.5, 0.7, 1.0],\n",
    "}"
   ]
  },
  {
   "cell_type": "code",
   "execution_count": 84,
   "id": "6bc57353",
   "metadata": {},
   "outputs": [],
   "source": [
    "xgb_search = GridSearchCV(estimator = xgboost,\n",
    "                         param_grid = xg_grid,\n",
    "                         cv =5,\n",
    "                         n_jobs = 4)"
   ]
  },
  {
   "cell_type": "code",
   "execution_count": 85,
   "id": "51cf22d9",
   "metadata": {},
   "outputs": [],
   "source": [
    "start = time.time()\n",
    "\n",
    "xgb_search.fit(X_train, y_train)\n",
    "\n",
    "end = time.time()"
   ]
  },
  {
   "cell_type": "code",
   "execution_count": 86,
   "id": "db864790",
   "metadata": {},
   "outputs": [
    {
     "name": "stdout",
     "output_type": "stream",
     "text": [
      "time taken for xg regressor 1.8839442054430644\n"
     ]
    }
   ],
   "source": [
    "print('time taken for xg regressor', (end-start)/60)"
   ]
  },
  {
   "cell_type": "code",
   "execution_count": 87,
   "id": "12d79684",
   "metadata": {},
   "outputs": [],
   "source": [
    "xbg_best_params = xgb_search.best_params_"
   ]
  },
  {
   "cell_type": "code",
   "execution_count": 88,
   "id": "2a8b4f60",
   "metadata": {},
   "outputs": [
    {
     "data": {
      "text/plain": [
       "{'learning_rate': 0.05,\n",
       " 'max_depth': 3,\n",
       " 'min_child_weight': 4,\n",
       " 'n_estimators': 80,\n",
       " 'objective': 'reg:squarederror',\n",
       " 'subsample': 0.7}"
      ]
     },
     "execution_count": 88,
     "metadata": {},
     "output_type": "execute_result"
    }
   ],
   "source": [
    "xbg_best_params"
   ]
  },
  {
   "cell_type": "code",
   "execution_count": 89,
   "id": "cd934180",
   "metadata": {},
   "outputs": [],
   "source": [
    "xgb_best_model = xgb_search.best_estimator_"
   ]
  },
  {
   "cell_type": "code",
   "execution_count": 90,
   "id": "d5339d92",
   "metadata": {},
   "outputs": [],
   "source": [
    "xbg_score = xgb_best_model.score(X_test, y_test)"
   ]
  },
  {
   "cell_type": "code",
   "execution_count": 91,
   "id": "a23dd4d8",
   "metadata": {},
   "outputs": [
    {
     "name": "stdout",
     "output_type": "stream",
     "text": [
      "Best XG Boost Accuracy Score:  0.8837388921504618\n"
     ]
    }
   ],
   "source": [
    "print('Best XG Boost Accuracy Score: ', xbg_score)"
   ]
  },
  {
   "cell_type": "markdown",
   "id": "9dda2406",
   "metadata": {},
   "source": [
    "## Load in 2022 Data\n"
   ]
  },
  {
   "cell_type": "code",
   "execution_count": 98,
   "id": "54f8b070",
   "metadata": {},
   "outputs": [],
   "source": [
    "last_year_df = pd.read_csv('data/2022_big5.csv')\n",
    "merged_cols = np.array(last_year_df.columns)\n",
    "\n",
    "X_col = merged_cols[merged_cols != 'market_value_in_eur']\n",
    "y_col = 'market_value_in_eur'\n",
    "X = last_year_df[X_col]\n",
    "y = last_year_df[y_col]"
   ]
  },
  {
   "cell_type": "code",
   "execution_count": 99,
   "id": "71997732",
   "metadata": {},
   "outputs": [],
   "source": [
    "previous_year_score_gbr = best_gbr.score(X,y)"
   ]
  },
  {
   "cell_type": "code",
   "execution_count": 100,
   "id": "74c3ae89",
   "metadata": {},
   "outputs": [
    {
     "name": "stdout",
     "output_type": "stream",
     "text": [
      "Best GBR Model Accuracy on 2022 Data:  0.919657767996378\n"
     ]
    }
   ],
   "source": [
    "print('Best GBR Model Accuracy on 2022 Data: ',previous_year_score_gbr )"
   ]
  },
  {
   "cell_type": "code",
   "execution_count": 101,
   "id": "57f57b7e",
   "metadata": {},
   "outputs": [],
   "source": [
    "previous_year_score_xgb = xgb_best_model.score(X,y)"
   ]
  },
  {
   "cell_type": "code",
   "execution_count": 102,
   "id": "d78883b4",
   "metadata": {},
   "outputs": [
    {
     "name": "stdout",
     "output_type": "stream",
     "text": [
      "Best XGB Model Accuracy on 2022 Data:  0.9052360053152594\n"
     ]
    }
   ],
   "source": [
    "print('Best XGB Model Accuracy on 2022 Data: ',previous_year_score_xgb )"
   ]
  },
  {
   "cell_type": "markdown",
   "id": "aefa4fa8",
   "metadata": {},
   "source": [
    "### Feature Weights"
   ]
  },
  {
   "cell_type": "code",
   "execution_count": 103,
   "id": "aac1063d",
   "metadata": {},
   "outputs": [],
   "source": [
    "gbr_weights = best_gbr.feature_importances_"
   ]
  },
  {
   "cell_type": "code",
   "execution_count": 104,
   "id": "a2e8f2c6",
   "metadata": {},
   "outputs": [
    {
     "name": "stdout",
     "output_type": "stream",
     "text": [
      "GBR Weights\n",
      "games_2023 feature weight:  0.0\n",
      "minutes_played_2023 feature weight:  0.0\n",
      "goals_2023 feature weight:  0.0\n",
      "assists_2023 feature weight:  0.0\n",
      "goals_against_2023 feature weight:  0.0\n",
      "goals_for_2023 feature weight:  0.0\n",
      "clean_sheet_2023 feature weight:  0.0\n",
      "position feature weight:  0.00121194383694798\n",
      "sub_position feature weight:  0.007126990424443735\n",
      "foot feature weight:  0.001247983845560803\n",
      "height_in_cm feature weight:  0.0051233467105386956\n",
      "age feature weight:  0.15905286920112535\n",
      "term_days_remaining feature weight:  0.012586742800227466\n",
      "highest_market_value_in_eur feature weight:  0.8068626927084439\n",
      "yellow_cards_2023 feature weight:  0.0\n",
      "red_cards_2023 feature weight:  0.0\n",
      "current_club_domestic_competition_id feature weight:  0.006787430472712309\n"
     ]
    }
   ],
   "source": [
    "print(\"GBR Weights\")\n",
    "for i in range(len(X_col)):\n",
    "    print(X_col[i], 'feature weight: ', gbr_weights[i])"
   ]
  },
  {
   "cell_type": "code",
   "execution_count": 105,
   "id": "470ad3bc",
   "metadata": {},
   "outputs": [],
   "source": [
    "xgb_weights = xgb_best_model.feature_importances_"
   ]
  },
  {
   "cell_type": "code",
   "execution_count": 106,
   "id": "30bd9214",
   "metadata": {},
   "outputs": [
    {
     "name": "stdout",
     "output_type": "stream",
     "text": [
      "XGB Weights\n",
      "games_2023 feature weight:  0.0\n",
      "minutes_played_2023 feature weight:  0.0\n",
      "goals_2023 feature weight:  0.0\n",
      "assists_2023 feature weight:  0.0\n",
      "goals_against_2023 feature weight:  0.0\n",
      "goals_for_2023 feature weight:  0.0\n",
      "clean_sheet_2023 feature weight:  0.0\n",
      "position feature weight:  0.040939912\n",
      "sub_position feature weight:  0.058903206\n",
      "foot feature weight:  0.044227287\n",
      "height_in_cm feature weight:  0.0517805\n",
      "age feature weight:  0.17645197\n",
      "term_days_remaining feature weight:  0.046783373\n",
      "highest_market_value_in_eur feature weight:  0.5420865\n",
      "yellow_cards_2023 feature weight:  0.0\n",
      "red_cards_2023 feature weight:  0.0\n",
      "current_club_domestic_competition_id feature weight:  0.03882733\n"
     ]
    }
   ],
   "source": [
    "print(\"XGB Weights\")\n",
    "for i in range(len(X_col)):\n",
    "    print(X_col[i], 'feature weight: ', xgb_weights[i])"
   ]
  },
  {
   "cell_type": "markdown",
   "id": "33997436",
   "metadata": {},
   "source": [
    "## Read in Premade Team and Calculate Valuation with GBR Model"
   ]
  },
  {
   "cell_type": "code",
   "execution_count": 107,
   "id": "8e02406b",
   "metadata": {},
   "outputs": [],
   "source": [
    "ult_team = pd.read_csv('data/ultimate_team.csv', header = 0)"
   ]
  },
  {
   "cell_type": "code",
   "execution_count": 108,
   "id": "1d5aa3ad",
   "metadata": {},
   "outputs": [],
   "source": [
    "ultimate_team_valuation = ult_team['market_value_in_eur'].sum()"
   ]
  },
  {
   "cell_type": "code",
   "execution_count": 109,
   "id": "d099178b",
   "metadata": {},
   "outputs": [
    {
     "name": "stdout",
     "output_type": "stream",
     "text": [
      "Expected Team Valuation is  870,000,000.0\n"
     ]
    }
   ],
   "source": [
    "print(\"Expected Team Valuation is \", '{:,}'.format(ultimate_team_valuation))"
   ]
  },
  {
   "cell_type": "code",
   "execution_count": 110,
   "id": "f04677c2",
   "metadata": {},
   "outputs": [],
   "source": [
    "merged_cols_2 = np.array(ult_team.columns)\n",
    "\n",
    "X_col_ult = merged_cols_2[merged_cols_2 != 'market_value_in_eur']\n",
    "y_col_ult = 'market_value_in_eur'\n",
    "X_ult = ult_team[X_col_ult]\n",
    "y_ult = ult_team[y_col_ult]"
   ]
  },
  {
   "cell_type": "code",
   "execution_count": 111,
   "id": "970d8145",
   "metadata": {},
   "outputs": [],
   "source": [
    "predicted_valuation = xgb_best_model.predict(X_ult)"
   ]
  },
  {
   "cell_type": "code",
   "execution_count": 112,
   "id": "32335634",
   "metadata": {},
   "outputs": [
    {
     "name": "stdout",
     "output_type": "stream",
     "text": [
      "Predicted Team Valuation is  758,943,206.0\n"
     ]
    }
   ],
   "source": [
    "print(\"Predicted Team Valuation is \", '{:,}'.format(sum(predicted_valuation)))"
   ]
  },
  {
   "cell_type": "code",
   "execution_count": 113,
   "id": "b8388c0c",
   "metadata": {},
   "outputs": [
    {
     "name": "stdout",
     "output_type": "stream",
     "text": [
      "Predicted Valuation:  66,298,996.0\n",
      "Actual Valuation:  75,000,000.0\n",
      "\n",
      "\n",
      "Predicted Valuation:  51,750,388.0\n",
      "Actual Valuation:  70,000,000.0\n",
      "\n",
      "\n",
      "Predicted Valuation:  33,619,220.0\n",
      "Actual Valuation:  45,000,000.0\n",
      "\n",
      "\n",
      "Predicted Valuation:  33,938,148.0\n",
      "Actual Valuation:  60,000,000.0\n",
      "\n",
      "\n",
      "Predicted Valuation:  89,788,784.0\n",
      "Actual Valuation:  65,000,000.0\n",
      "\n",
      "\n",
      "Predicted Valuation:  9,601,634.0\n",
      "Actual Valuation:  7,000,000.0\n",
      "\n",
      "\n",
      "Predicted Valuation:  103,352,488.0\n",
      "Actual Valuation:  110,000,000.0\n",
      "\n",
      "\n",
      "Predicted Valuation:  111,954,432.0\n",
      "Actual Valuation:  170,000,000.0\n",
      "\n",
      "\n",
      "Predicted Valuation:  99,626,680.0\n",
      "Actual Valuation:  100,000,000.0\n",
      "\n",
      "\n",
      "Predicted Valuation:  53,741,996.0\n",
      "Actual Valuation:  48,000,000.0\n",
      "\n",
      "\n",
      "Predicted Valuation:  105,270,440.0\n",
      "Actual Valuation:  120,000,000.0\n",
      "\n",
      "\n"
     ]
    }
   ],
   "source": [
    "for i in range(len(y_ult)):\n",
    "    print('Predicted Valuation: ', '{:,}'.format(predicted_valuation[i]))\n",
    "    print('Actual Valuation: ', '{:,}'.format(y_ult[i]))\n",
    "    print('\\n')"
   ]
  },
  {
   "cell_type": "code",
   "execution_count": 115,
   "id": "3445a39b",
   "metadata": {},
   "outputs": [],
   "source": [
    "players = pd.read_csv('data/name_plus_value.csv', header = 0)"
   ]
  },
  {
   "cell_type": "code",
   "execution_count": 116,
   "id": "6402b366",
   "metadata": {},
   "outputs": [],
   "source": [
    "pd.options.display.float_format = '{:,}'.format"
   ]
  },
  {
   "cell_type": "code",
   "execution_count": 117,
   "id": "9154a9d6",
   "metadata": {},
   "outputs": [
    {
     "data": {
      "text/html": [
       "<div>\n",
       "<style scoped>\n",
       "    .dataframe tbody tr th:only-of-type {\n",
       "        vertical-align: middle;\n",
       "    }\n",
       "\n",
       "    .dataframe tbody tr th {\n",
       "        vertical-align: top;\n",
       "    }\n",
       "\n",
       "    .dataframe thead th {\n",
       "        text-align: right;\n",
       "    }\n",
       "</style>\n",
       "<table border=\"1\" class=\"dataframe\">\n",
       "  <thead>\n",
       "    <tr style=\"text-align: right;\">\n",
       "      <th></th>\n",
       "      <th>name</th>\n",
       "      <th>market_value_in_eur</th>\n",
       "    </tr>\n",
       "  </thead>\n",
       "  <tbody>\n",
       "    <tr>\n",
       "      <th>0</th>\n",
       "      <td>Rúben Dias</td>\n",
       "      <td>75,000,000.0</td>\n",
       "    </tr>\n",
       "    <tr>\n",
       "      <th>1</th>\n",
       "      <td>Mohamed Salah</td>\n",
       "      <td>70,000,000.0</td>\n",
       "    </tr>\n",
       "    <tr>\n",
       "      <th>2</th>\n",
       "      <td>Virgil van Dijk</td>\n",
       "      <td>45,000,000.0</td>\n",
       "    </tr>\n",
       "    <tr>\n",
       "      <th>3</th>\n",
       "      <td>Heung-min Son</td>\n",
       "      <td>60,000,000.0</td>\n",
       "    </tr>\n",
       "    <tr>\n",
       "      <th>4</th>\n",
       "      <td>Trent Alexander-Arnold</td>\n",
       "      <td>65,000,000.0</td>\n",
       "    </tr>\n",
       "    <tr>\n",
       "      <th>5</th>\n",
       "      <td>Manuel Neuer</td>\n",
       "      <td>7,000,000.0</td>\n",
       "    </tr>\n",
       "    <tr>\n",
       "      <th>6</th>\n",
       "      <td>Jamal Musiala</td>\n",
       "      <td>110,000,000.0</td>\n",
       "    </tr>\n",
       "    <tr>\n",
       "      <th>7</th>\n",
       "      <td>Erling Haaland</td>\n",
       "      <td>170,000,000.0</td>\n",
       "    </tr>\n",
       "    <tr>\n",
       "      <th>8</th>\n",
       "      <td>Pedri</td>\n",
       "      <td>100,000,000.0</td>\n",
       "    </tr>\n",
       "    <tr>\n",
       "      <th>9</th>\n",
       "      <td>Andrew Robertson</td>\n",
       "      <td>48,000,000.0</td>\n",
       "    </tr>\n",
       "    <tr>\n",
       "      <th>10</th>\n",
       "      <td>Jude Bellingham</td>\n",
       "      <td>120,000,000.0</td>\n",
       "    </tr>\n",
       "  </tbody>\n",
       "</table>\n",
       "</div>"
      ],
      "text/plain": [
       "                      name  market_value_in_eur\n",
       "0               Rúben Dias         75,000,000.0\n",
       "1            Mohamed Salah         70,000,000.0\n",
       "2          Virgil van Dijk         45,000,000.0\n",
       "3            Heung-min Son         60,000,000.0\n",
       "4   Trent Alexander-Arnold         65,000,000.0\n",
       "5             Manuel Neuer          7,000,000.0\n",
       "6            Jamal Musiala        110,000,000.0\n",
       "7           Erling Haaland        170,000,000.0\n",
       "8                    Pedri        100,000,000.0\n",
       "9         Andrew Robertson         48,000,000.0\n",
       "10         Jude Bellingham        120,000,000.0"
      ]
     },
     "execution_count": 117,
     "metadata": {},
     "output_type": "execute_result"
    }
   ],
   "source": [
    "players"
   ]
  },
  {
   "cell_type": "code",
   "execution_count": null,
   "id": "c2a94e15",
   "metadata": {},
   "outputs": [],
   "source": []
  },
  {
   "cell_type": "code",
   "execution_count": null,
   "id": "319a8a03",
   "metadata": {},
   "outputs": [],
   "source": []
  }
 ],
 "metadata": {
  "kernelspec": {
   "display_name": "Python 3 (ipykernel)",
   "language": "python",
   "name": "python3"
  },
  "language_info": {
   "codemirror_mode": {
    "name": "ipython",
    "version": 3
   },
   "file_extension": ".py",
   "mimetype": "text/x-python",
   "name": "python",
   "nbconvert_exporter": "python",
   "pygments_lexer": "ipython3",
   "version": "3.11.5"
  }
 },
 "nbformat": 4,
 "nbformat_minor": 5
}
